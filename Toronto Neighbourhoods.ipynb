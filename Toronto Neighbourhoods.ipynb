{
 "cells": [
  {
   "cell_type": "markdown",
   "metadata": {},
   "source": [
    "# Toronto Neighbourhoods\n",
    "### This notebook will be used to explore, segment, and cluster the neighborhoods in the city of Toronto"
   ]
  },
  {
   "cell_type": "markdown",
   "metadata": {},
   "source": [
    "### 1. Creating the Dataframe\n",
    "------------------------------------------------------------------------\n",
    "- Importing libraries and scraping wikipedia for postalcode table"
   ]
  },
  {
   "cell_type": "code",
   "execution_count": 39,
   "metadata": {
    "scrolled": false
   },
   "outputs": [],
   "source": [
    "import requests\n",
    "import pandas as pd\n",
    "import numpy as np\n",
    "\n",
    "website_url = requests.get('https://en.wikipedia.org/wiki/List_of_postal_codes_of_Canada:_M').text\n",
    "\n",
    "from bs4 import BeautifulSoup\n",
    "soup = BeautifulSoup(website_url,'lxml')\n",
    "\n",
    "scrape_table = soup.find('table',{'class':'wikitable sortable'})\n",
    "# scrape_table"
   ]
  },
  {
   "cell_type": "markdown",
   "metadata": {},
   "source": [
    "********************************************\n",
    "- Converting scraped table to dataframe and ignoring cells with a borough that is Not assigned"
   ]
  },
  {
   "cell_type": "code",
   "execution_count": 40,
   "metadata": {},
   "outputs": [],
   "source": [
    "df_scraped = pd.read_html(str(scrape_table))\n",
    "df_scraped = df_scraped[0].dropna(axis=0)\n",
    "df_scraped = df_scraped[~df_scraped['Borough'].isin(['Not assigned'])]"
   ]
  },
  {
   "cell_type": "markdown",
   "metadata": {},
   "source": [
    "********************************************\n",
    "- Combining rows with common postal code and separating by comma\n",
    "- If neighbourhood is not assigned, using Borough value as neighbourhood"
   ]
  },
  {
   "cell_type": "code",
   "execution_count": 41,
   "metadata": {},
   "outputs": [
    {
     "data": {
      "text/html": [
       "<div>\n",
       "<style scoped>\n",
       "    .dataframe tbody tr th:only-of-type {\n",
       "        vertical-align: middle;\n",
       "    }\n",
       "\n",
       "    .dataframe tbody tr th {\n",
       "        vertical-align: top;\n",
       "    }\n",
       "\n",
       "    .dataframe thead th {\n",
       "        text-align: right;\n",
       "    }\n",
       "</style>\n",
       "<table border=\"1\" class=\"dataframe\">\n",
       "  <thead>\n",
       "    <tr style=\"text-align: right;\">\n",
       "      <th></th>\n",
       "      <th>Postcode</th>\n",
       "      <th>Borough</th>\n",
       "      <th>Neighbourhood</th>\n",
       "    </tr>\n",
       "  </thead>\n",
       "  <tbody>\n",
       "    <tr>\n",
       "      <th>0</th>\n",
       "      <td>M3A</td>\n",
       "      <td>North York</td>\n",
       "      <td>Parkwoods</td>\n",
       "    </tr>\n",
       "    <tr>\n",
       "      <th>1</th>\n",
       "      <td>M4A</td>\n",
       "      <td>North York</td>\n",
       "      <td>Victoria Village</td>\n",
       "    </tr>\n",
       "    <tr>\n",
       "      <th>2</th>\n",
       "      <td>M5A</td>\n",
       "      <td>Downtown Toronto</td>\n",
       "      <td>Harbourfront, Regent Park</td>\n",
       "    </tr>\n",
       "    <tr>\n",
       "      <th>3</th>\n",
       "      <td>M6A</td>\n",
       "      <td>North York</td>\n",
       "      <td>Lawrence Heights, Lawrence Manor</td>\n",
       "    </tr>\n",
       "    <tr>\n",
       "      <th>4</th>\n",
       "      <td>M7A</td>\n",
       "      <td>Queen's Park</td>\n",
       "      <td>Queen's Park</td>\n",
       "    </tr>\n",
       "  </tbody>\n",
       "</table>\n",
       "</div>"
      ],
      "text/plain": [
       "  Postcode           Borough                     Neighbourhood\n",
       "0      M3A        North York                         Parkwoods\n",
       "1      M4A        North York                  Victoria Village\n",
       "2      M5A  Downtown Toronto         Harbourfront, Regent Park\n",
       "3      M6A        North York  Lawrence Heights, Lawrence Manor\n",
       "4      M7A      Queen's Park                      Queen's Park"
      ]
     },
     "execution_count": 41,
     "metadata": {},
     "output_type": "execute_result"
    }
   ],
   "source": [
    "df_comma = df_scraped.groupby(['Postcode','Borough'], sort=False)['Neighbourhood'].apply(', '.join).reset_index()\n",
    "# df_comma\n",
    "df_comma['Neighbourhood'] = np.where(df_comma.Neighbourhood == 'Not assigned', df_comma.Borough, df_comma.Neighbourhood)\n",
    "df_comma.head()"
   ]
  },
  {
   "cell_type": "code",
   "execution_count": 42,
   "metadata": {},
   "outputs": [
    {
     "data": {
      "text/plain": [
       "(103, 3)"
      ]
     },
     "execution_count": 42,
     "metadata": {},
     "output_type": "execute_result"
    }
   ],
   "source": [
    "df_comma.shape"
   ]
  },
  {
   "cell_type": "markdown",
   "metadata": {},
   "source": [
    "### 2. Adding Geographic coordinates\n",
    "------------------------------------------------------------------------\n",
    "- Using CSV to get Lat/Long intel"
   ]
  },
  {
   "cell_type": "code",
   "execution_count": 43,
   "metadata": {},
   "outputs": [
    {
     "data": {
      "text/html": [
       "<div>\n",
       "<style scoped>\n",
       "    .dataframe tbody tr th:only-of-type {\n",
       "        vertical-align: middle;\n",
       "    }\n",
       "\n",
       "    .dataframe tbody tr th {\n",
       "        vertical-align: top;\n",
       "    }\n",
       "\n",
       "    .dataframe thead th {\n",
       "        text-align: right;\n",
       "    }\n",
       "</style>\n",
       "<table border=\"1\" class=\"dataframe\">\n",
       "  <thead>\n",
       "    <tr style=\"text-align: right;\">\n",
       "      <th></th>\n",
       "      <th>Postal Code</th>\n",
       "      <th>Latitude</th>\n",
       "      <th>Longitude</th>\n",
       "    </tr>\n",
       "  </thead>\n",
       "  <tbody>\n",
       "    <tr>\n",
       "      <th>0</th>\n",
       "      <td>M1B</td>\n",
       "      <td>43.806686</td>\n",
       "      <td>-79.194353</td>\n",
       "    </tr>\n",
       "    <tr>\n",
       "      <th>1</th>\n",
       "      <td>M1C</td>\n",
       "      <td>43.784535</td>\n",
       "      <td>-79.160497</td>\n",
       "    </tr>\n",
       "    <tr>\n",
       "      <th>2</th>\n",
       "      <td>M1E</td>\n",
       "      <td>43.763573</td>\n",
       "      <td>-79.188711</td>\n",
       "    </tr>\n",
       "    <tr>\n",
       "      <th>3</th>\n",
       "      <td>M1G</td>\n",
       "      <td>43.770992</td>\n",
       "      <td>-79.216917</td>\n",
       "    </tr>\n",
       "    <tr>\n",
       "      <th>4</th>\n",
       "      <td>M1H</td>\n",
       "      <td>43.773136</td>\n",
       "      <td>-79.239476</td>\n",
       "    </tr>\n",
       "  </tbody>\n",
       "</table>\n",
       "</div>"
      ],
      "text/plain": [
       "  Postal Code   Latitude  Longitude\n",
       "0         M1B  43.806686 -79.194353\n",
       "1         M1C  43.784535 -79.160497\n",
       "2         M1E  43.763573 -79.188711\n",
       "3         M1G  43.770992 -79.216917\n",
       "4         M1H  43.773136 -79.239476"
      ]
     },
     "execution_count": 43,
     "metadata": {},
     "output_type": "execute_result"
    }
   ],
   "source": [
    "df_coord = pd.read_csv('Geospatial_Coordinates.csv')\n",
    "df_coord.head()"
   ]
  },
  {
   "cell_type": "code",
   "execution_count": 99,
   "metadata": {},
   "outputs": [
    {
     "data": {
      "text/html": [
       "<div>\n",
       "<style scoped>\n",
       "    .dataframe tbody tr th:only-of-type {\n",
       "        vertical-align: middle;\n",
       "    }\n",
       "\n",
       "    .dataframe tbody tr th {\n",
       "        vertical-align: top;\n",
       "    }\n",
       "\n",
       "    .dataframe thead th {\n",
       "        text-align: right;\n",
       "    }\n",
       "</style>\n",
       "<table border=\"1\" class=\"dataframe\">\n",
       "  <thead>\n",
       "    <tr style=\"text-align: right;\">\n",
       "      <th></th>\n",
       "      <th>Postcode</th>\n",
       "      <th>Borough</th>\n",
       "      <th>Neighbourhood</th>\n",
       "      <th>Latitude</th>\n",
       "      <th>Longitude</th>\n",
       "    </tr>\n",
       "  </thead>\n",
       "  <tbody>\n",
       "    <tr>\n",
       "      <th>0</th>\n",
       "      <td>M3A</td>\n",
       "      <td>North York</td>\n",
       "      <td>Parkwoods</td>\n",
       "      <td>43.753259</td>\n",
       "      <td>-79.329656</td>\n",
       "    </tr>\n",
       "    <tr>\n",
       "      <th>1</th>\n",
       "      <td>M4A</td>\n",
       "      <td>North York</td>\n",
       "      <td>Victoria Village</td>\n",
       "      <td>43.725882</td>\n",
       "      <td>-79.315572</td>\n",
       "    </tr>\n",
       "    <tr>\n",
       "      <th>2</th>\n",
       "      <td>M5A</td>\n",
       "      <td>Downtown Toronto</td>\n",
       "      <td>Harbourfront, Regent Park</td>\n",
       "      <td>43.654260</td>\n",
       "      <td>-79.360636</td>\n",
       "    </tr>\n",
       "    <tr>\n",
       "      <th>3</th>\n",
       "      <td>M6A</td>\n",
       "      <td>North York</td>\n",
       "      <td>Lawrence Heights, Lawrence Manor</td>\n",
       "      <td>43.718518</td>\n",
       "      <td>-79.464763</td>\n",
       "    </tr>\n",
       "    <tr>\n",
       "      <th>4</th>\n",
       "      <td>M7A</td>\n",
       "      <td>Queen's Park</td>\n",
       "      <td>Queen's Park</td>\n",
       "      <td>43.662301</td>\n",
       "      <td>-79.389494</td>\n",
       "    </tr>\n",
       "  </tbody>\n",
       "</table>\n",
       "</div>"
      ],
      "text/plain": [
       "  Postcode           Borough                     Neighbourhood   Latitude  \\\n",
       "0      M3A        North York                         Parkwoods  43.753259   \n",
       "1      M4A        North York                  Victoria Village  43.725882   \n",
       "2      M5A  Downtown Toronto         Harbourfront, Regent Park  43.654260   \n",
       "3      M6A        North York  Lawrence Heights, Lawrence Manor  43.718518   \n",
       "4      M7A      Queen's Park                      Queen's Park  43.662301   \n",
       "\n",
       "   Longitude  \n",
       "0 -79.329656  \n",
       "1 -79.315572  \n",
       "2 -79.360636  \n",
       "3 -79.464763  \n",
       "4 -79.389494  "
      ]
     },
     "execution_count": 99,
     "metadata": {},
     "output_type": "execute_result"
    }
   ],
   "source": [
    "df_comma_coord = df_comma.merge(df_coord, how='inner', left_on='Postcode', right_on='Postal Code')\n",
    "df_comma_coord.drop(['Postal Code'], axis=1, inplace=True)\n",
    "df_comma_coord.head()"
   ]
  },
  {
   "cell_type": "markdown",
   "metadata": {},
   "source": [
    "### 3. Generating maps to visualize neighborhoods\n",
    "------------------------------------------------------------------------\n",
    "- Using the Boroughs that containt Toronto"
   ]
  },
  {
   "cell_type": "code",
   "execution_count": 100,
   "metadata": {},
   "outputs": [],
   "source": [
    "toronto_data = df_comma_coord[df_comma_coord['Borough'].str.contains('Toronto')].reset_index(drop=True)"
   ]
  },
  {
   "cell_type": "code",
   "execution_count": 101,
   "metadata": {},
   "outputs": [
    {
     "data": {
      "text/html": [
       "<div style=\"width:100%;\"><div style=\"position:relative;width:100%;height:0;padding-bottom:60%;\"><iframe src=\"data:text/html;charset=utf-8;base64,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\" style=\"position:absolute;width:100%;height:100%;left:0;top:0;border:none !important;\" allowfullscreen webkitallowfullscreen mozallowfullscreen></iframe></div></div>"
      ],
      "text/plain": [
       "<folium.folium.Map at 0x1990059e320>"
      ]
     },
     "execution_count": 101,
     "metadata": {},
     "output_type": "execute_result"
    }
   ],
   "source": [
    "import folium\n",
    "\n",
    "map_Toronto = folium.Map(location=[43.6532, -79.3832], zoom_start=11)\n",
    "\n",
    "# add markers to map\n",
    "for lat, lng, label in zip(toronto_data['Latitude'], toronto_data['Longitude'], toronto_data['Neighbourhood']):\n",
    "    label = folium.Popup(label, parse_html=True)\n",
    "    folium.CircleMarker(\n",
    "        [lat, lng],\n",
    "        radius=5,\n",
    "        popup=label,\n",
    "        color='blue',\n",
    "        fill=True,\n",
    "        fill_color='#3186cc',\n",
    "        fill_opacity=0.7,\n",
    "        parse_html=False).add_to(map_Toronto)  \n",
    "    \n",
    "map_Toronto "
   ]
  }
 ],
 "metadata": {
  "kernelspec": {
   "display_name": "Python 3",
   "language": "python",
   "name": "python3"
  },
  "language_info": {
   "codemirror_mode": {
    "name": "ipython",
    "version": 3
   },
   "file_extension": ".py",
   "mimetype": "text/x-python",
   "name": "python",
   "nbconvert_exporter": "python",
   "pygments_lexer": "ipython3",
   "version": "3.6.4"
  }
 },
 "nbformat": 4,
 "nbformat_minor": 2
}
